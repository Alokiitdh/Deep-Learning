{
  "nbformat": 4,
  "nbformat_minor": 0,
  "metadata": {
    "colab": {
      "provenance": []
    },
    "kernelspec": {
      "name": "python3",
      "display_name": "Python 3"
    },
    "language_info": {
      "name": "python"
    }
  },
  "cells": [
    {
      "cell_type": "code",
      "execution_count": 1,
      "metadata": {
        "id": "vT0F9ByzrhNZ"
      },
      "outputs": [],
      "source": [
        "import torch"
      ]
    },
    {
      "cell_type": "markdown",
      "source": [
        "**Note:** tensor Require to all there elemnts have single data type."
      ],
      "metadata": {
        "id": "AIioJX54s6n6"
      }
    },
    {
      "cell_type": "code",
      "source": [
        "#Vectors\n",
        "t1 = torch.tensor([1.,2,3,4,5])\n",
        "t1"
      ],
      "metadata": {
        "colab": {
          "base_uri": "https://localhost:8080/"
        },
        "id": "LojxWVRjswZy",
        "outputId": "5acb0d8d-a1a5-4d3b-9ba3-60996b3a77bb"
      },
      "execution_count": 2,
      "outputs": [
        {
          "output_type": "execute_result",
          "data": {
            "text/plain": [
              "tensor([1., 2., 3., 4., 5.])"
            ]
          },
          "metadata": {},
          "execution_count": 2
        }
      ]
    },
    {
      "cell_type": "code",
      "source": [
        "t1.shape"
      ],
      "metadata": {
        "colab": {
          "base_uri": "https://localhost:8080/"
        },
        "id": "7--LKMFBvZop",
        "outputId": "fb5a0f1c-ac83-4c74-db13-777c18e6850d"
      },
      "execution_count": 6,
      "outputs": [
        {
          "output_type": "execute_result",
          "data": {
            "text/plain": [
              "torch.Size([5])"
            ]
          },
          "metadata": {},
          "execution_count": 6
        }
      ]
    },
    {
      "cell_type": "code",
      "source": [
        "#matrix\n",
        "t2 = torch.tensor([[1,2,4], [3,4,5], [5,6,7]])\n",
        "t2"
      ],
      "metadata": {
        "colab": {
          "base_uri": "https://localhost:8080/"
        },
        "id": "ETNFOlPGtLwn",
        "outputId": "a25673f5-3240-42e6-b286-5ad7015f96b0"
      },
      "execution_count": 4,
      "outputs": [
        {
          "output_type": "execute_result",
          "data": {
            "text/plain": [
              "tensor([[1, 2, 4],\n",
              "        [3, 4, 5],\n",
              "        [5, 6, 7]])"
            ]
          },
          "metadata": {},
          "execution_count": 4
        }
      ]
    },
    {
      "cell_type": "code",
      "source": [
        "t2.shape"
      ],
      "metadata": {
        "colab": {
          "base_uri": "https://localhost:8080/"
        },
        "id": "jnazJGZKvcXp",
        "outputId": "2604d66d-36ea-4bce-95f2-76c760b195c9"
      },
      "execution_count": 7,
      "outputs": [
        {
          "output_type": "execute_result",
          "data": {
            "text/plain": [
              "torch.Size([3, 3])"
            ]
          },
          "metadata": {},
          "execution_count": 7
        }
      ]
    },
    {
      "cell_type": "code",
      "source": [
        "#3d Array\n",
        "t3 = torch.tensor([[[1,2,3], [3,4,5], [5,6,7]], [[1,2,3], [3,4,5], [5,6,7]]])\n",
        "t3\n"
      ],
      "metadata": {
        "colab": {
          "base_uri": "https://localhost:8080/"
        },
        "id": "YoElIdawtid6",
        "outputId": "dd1da4d7-3e4a-4d80-d072-d439e4c908a7"
      },
      "execution_count": 5,
      "outputs": [
        {
          "output_type": "execute_result",
          "data": {
            "text/plain": [
              "tensor([[[1, 2, 3],\n",
              "         [3, 4, 5],\n",
              "         [5, 6, 7]],\n",
              "\n",
              "        [[1, 2, 3],\n",
              "         [3, 4, 5],\n",
              "         [5, 6, 7]]])"
            ]
          },
          "metadata": {},
          "execution_count": 5
        }
      ]
    },
    {
      "cell_type": "code",
      "source": [
        "t3.shape"
      ],
      "metadata": {
        "colab": {
          "base_uri": "https://localhost:8080/"
        },
        "id": "xKwIaWsBvf4t",
        "outputId": "997f171e-1b31-4e7a-c573-34621ef91618"
      },
      "execution_count": 8,
      "outputs": [
        {
          "output_type": "execute_result",
          "data": {
            "text/plain": [
              "torch.Size([2, 3, 3])"
            ]
          },
          "metadata": {},
          "execution_count": 8
        }
      ]
    },
    {
      "cell_type": "markdown",
      "source": [
        "**Tensor Operation with gradient**"
      ],
      "metadata": {
        "id": "6fmAvMRyvyFH"
      }
    },
    {
      "cell_type": "code",
      "source": [
        "# creating Tensors\n",
        "x = torch.tensor(3.)\n",
        "w = torch.tensor(4., requires_grad = True)\n",
        "b= torch.tensor(5., requires_grad= True)\n"
      ],
      "metadata": {
        "id": "VSiIjNDsv3lT"
      },
      "execution_count": 18,
      "outputs": []
    },
    {
      "cell_type": "code",
      "source": [
        "#Arithmatic operation\n",
        "y = w * x + b\n",
        "print(y)"
      ],
      "metadata": {
        "colab": {
          "base_uri": "https://localhost:8080/"
        },
        "id": "mYc9CXGTxUOM",
        "outputId": "33ea8bb2-a5af-48cb-89c1-ab07457a27cd"
      },
      "execution_count": 22,
      "outputs": [
        {
          "output_type": "stream",
          "name": "stdout",
          "text": [
            "tensor(17., grad_fn=<AddBackward0>)\n"
          ]
        }
      ]
    },
    {
      "cell_type": "code",
      "source": [
        "#compute Derivative\n",
        "y.backward()\n"
      ],
      "metadata": {
        "id": "KnoIdFQ3yBJY"
      },
      "execution_count": 23,
      "outputs": []
    },
    {
      "cell_type": "code",
      "source": [
        "# lets go with one more example\n",
        "z = torch.tensor(3., requires_grad = True)"
      ],
      "metadata": {
        "id": "qjkNF0oN2nkN"
      },
      "execution_count": 24,
      "outputs": []
    },
    {
      "cell_type": "code",
      "source": [
        "p = z**2 + 2*z + 1\n",
        "p.backward()"
      ],
      "metadata": {
        "id": "acYumDJ9Mapt"
      },
      "execution_count": 25,
      "outputs": []
    },
    {
      "cell_type": "code",
      "source": [
        "print(z.grad)"
      ],
      "metadata": {
        "colab": {
          "base_uri": "https://localhost:8080/"
        },
        "id": "YXHEgFRhMl7l",
        "outputId": "c34bd908-4b87-427c-fd59-a7d08152a81e"
      },
      "execution_count": 27,
      "outputs": [
        {
          "output_type": "stream",
          "name": "stdout",
          "text": [
            "tensor(8.)\n"
          ]
        }
      ]
    },
    {
      "cell_type": "markdown",
      "source": [
        "# Interoperations:"
      ],
      "metadata": {
        "id": "RTUeuP40b7EJ"
      }
    },
    {
      "cell_type": "code",
      "source": [
        "#Converting numpy array to pytorch tensor\n",
        "import numpy as np\n",
        "x = np.array([[1,2], [3,4.]])\n",
        "print(x)\n",
        "\n",
        "y = torch.from_numpy(x)\n",
        "print(y)\n",
        "\n",
        "print(x.dtype, y.dtype)\n",
        "z = y.numpy()\n",
        "print(z)\n"
      ],
      "metadata": {
        "colab": {
          "base_uri": "https://localhost:8080/"
        },
        "id": "2vxClDlZb6Xl",
        "outputId": "46e079e0-38fc-4038-da3d-f9f53c6b32f1"
      },
      "execution_count": 32,
      "outputs": [
        {
          "output_type": "stream",
          "name": "stdout",
          "text": [
            "[[1. 2.]\n",
            " [3. 4.]]\n",
            "tensor([[1., 2.],\n",
            "        [3., 4.]], dtype=torch.float64)\n",
            "float64 torch.float64\n",
            "[[1. 2.]\n",
            " [3. 4.]]\n"
          ]
        }
      ]
    }
  ]
}