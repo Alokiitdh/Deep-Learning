{
  "nbformat": 4,
  "nbformat_minor": 0,
  "metadata": {
    "colab": {
      "provenance": [],
      "authorship_tag": "ABX9TyPy7nddLsylGHSrf7n4AqM5"
    },
    "kernelspec": {
      "name": "python3",
      "display_name": "Python 3"
    },
    "language_info": {
      "name": "python"
    }
  },
  "cells": [
    {
      "cell_type": "code",
      "execution_count": 51,
      "metadata": {
        "id": "VfDL2gZHHVFE"
      },
      "outputs": [],
      "source": [
        "import torch\n",
        "import torchvision\n",
        "from torchvision.datasets import MNIST"
      ]
    },
    {
      "cell_type": "code",
      "source": [
        "train_dataset = MNIST(root = 'data/', download = True)"
      ],
      "metadata": {
        "id": "ijlKCZGsQZF3"
      },
      "execution_count": 52,
      "outputs": []
    },
    {
      "cell_type": "code",
      "source": [
        "train_dataset"
      ],
      "metadata": {
        "colab": {
          "base_uri": "https://localhost:8080/"
        },
        "id": "7INS6jfRQvKS",
        "outputId": "a624b793-8637-4fa2-d693-c5799972636b"
      },
      "execution_count": 53,
      "outputs": [
        {
          "output_type": "execute_result",
          "data": {
            "text/plain": [
              "Dataset MNIST\n",
              "    Number of datapoints: 60000\n",
              "    Root location: data/\n",
              "    Split: Train"
            ]
          },
          "metadata": {},
          "execution_count": 53
        }
      ]
    },
    {
      "cell_type": "code",
      "source": [
        "len(train_dataset)"
      ],
      "metadata": {
        "colab": {
          "base_uri": "https://localhost:8080/"
        },
        "id": "uxtPRkXlQ-df",
        "outputId": "61c2cea9-2edc-4522-8811-3356aa7656c0"
      },
      "execution_count": 54,
      "outputs": [
        {
          "output_type": "execute_result",
          "data": {
            "text/plain": [
              "60000"
            ]
          },
          "metadata": {},
          "execution_count": 54
        }
      ]
    },
    {
      "cell_type": "code",
      "source": [
        "test_dataset = MNIST(root = 'data/', train = False)\n",
        "len(test_dataset)"
      ],
      "metadata": {
        "colab": {
          "base_uri": "https://localhost:8080/"
        },
        "id": "nhbZ_-y1RQ8e",
        "outputId": "2a72f219-1667-40c2-cad0-e3e99a8db8b8"
      },
      "execution_count": 55,
      "outputs": [
        {
          "output_type": "execute_result",
          "data": {
            "text/plain": [
              "10000"
            ]
          },
          "metadata": {},
          "execution_count": 55
        }
      ]
    },
    {
      "cell_type": "code",
      "source": [
        "train_dataset[0]\n",
        "#it is the image 28X28 represent the number 5"
      ],
      "metadata": {
        "colab": {
          "base_uri": "https://localhost:8080/"
        },
        "id": "6XbpXlJWRez1",
        "outputId": "8685bf64-446e-4bfe-c108-01662985341f"
      },
      "execution_count": 56,
      "outputs": [
        {
          "output_type": "execute_result",
          "data": {
            "text/plain": [
              "(<PIL.Image.Image image mode=L size=28x28>, 5)"
            ]
          },
          "metadata": {},
          "execution_count": 56
        }
      ]
    },
    {
      "cell_type": "code",
      "source": [
        "# visualizing the image\n",
        "\n",
        "import matplotlib.pyplot as plt\n",
        "image, label = train_dataset[0]\n",
        "plt.imshow(image, cmap = 'gray')\n",
        "print('label: ', label)"
      ],
      "metadata": {
        "colab": {
          "base_uri": "https://localhost:8080/",
          "height": 447
        },
        "id": "mbvxMLhuTaCX",
        "outputId": "dbb3109f-bed6-4174-9060-291bad19017a"
      },
      "execution_count": 57,
      "outputs": [
        {
          "output_type": "stream",
          "name": "stdout",
          "text": [
            "label:  5\n"
          ]
        },
        {
          "output_type": "display_data",
          "data": {
            "text/plain": [
              "<Figure size 640x480 with 1 Axes>"
            ],
            "image/png": "[encoded data removed]"
          },
          "metadata": {}
        }
      ]
    },
    {
      "cell_type": "code",
      "source": [
        "image, label = train_dataset[10]\n",
        "plt.imshow(image, cmap = 'gray')\n",
        "print('label: ', label)"
      ],
      "metadata": {
        "colab": {
          "base_uri": "https://localhost:8080/",
          "height": 447
        },
        "id": "SSz-gI7xTtZr",
        "outputId": "5a3ae4f3-81fc-410a-e1bc-f945c269d43b"
      },
      "execution_count": 58,
      "outputs": [
        {
          "output_type": "stream",
          "name": "stdout",
          "text": [
            "label:  3\n"
          ]
        },
        {
          "output_type": "display_data",
          "data": {
            "text/plain": [
              "<Figure size 640x480 with 1 Axes>"
            ],
            "image/png": "[encoded data removed]"
          },
          "metadata": {}
        }
      ]
    },
    {
      "cell_type": "markdown",
      "source": [
        "**NOTE:**\n",
        "\n",
        "Pytorch does not know how to work with thw images, so we will convert the images to tensoers"
      ],
      "metadata": {
        "id": "Vg8FUPK5T8qU"
      }
    },
    {
      "cell_type": "code",
      "source": [
        "import torchvision.transforms as transforms"
      ],
      "metadata": {
        "id": "HBAazjcoT3kq"
      },
      "execution_count": 59,
      "outputs": []
    },
    {
      "cell_type": "code",
      "source": [
        "train_dataset = MNIST(root = 'data/', train = True, transform = transforms.ToTensor() )"
      ],
      "metadata": {
        "id": "TLaqdyD_U59F"
      },
      "execution_count": 60,
      "outputs": []
    },
    {
      "cell_type": "code",
      "source": [
        "image_tensor, label = train_dataset[0]\n",
        "print(image_tensor.shape)"
      ],
      "metadata": {
        "colab": {
          "base_uri": "https://localhost:8080/"
        },
        "id": "uPqV3BVCVhIv",
        "outputId": "29e6d7b3-7f97-4f2f-b4f9-48034b9d8b0b"
      },
      "execution_count": 61,
      "outputs": [
        {
          "output_type": "stream",
          "name": "stdout",
          "text": [
            "torch.Size([1, 28, 28])\n"
          ]
        }
      ]
    },
    {
      "cell_type": "code",
      "source": [
        "print(image_tensor[:, 15:20, 15:20]) # we are seeing particular part of the image"
      ],
      "metadata": {
        "colab": {
          "base_uri": "https://localhost:8080/"
        },
        "id": "oF-WnQXqXDR7",
        "outputId": "ec9ddc69-a13c-4be1-9a9f-a66a507ceec9"
      },
      "execution_count": 62,
      "outputs": [
        {
          "output_type": "stream",
          "name": "stdout",
          "text": [
            "tensor([[[0.7294, 0.9922, 0.9922, 0.5882, 0.1059],\n",
            "         [0.0627, 0.3647, 0.9882, 0.9922, 0.7333],\n",
            "         [0.0000, 0.0000, 0.9765, 0.9922, 0.9765],\n",
            "         [0.5098, 0.7176, 0.9922, 0.9922, 0.8118],\n",
            "         [0.9922, 0.9922, 0.9922, 0.9804, 0.7137]]])\n"
          ]
        }
      ]
    },
    {
      "cell_type": "code",
      "source": [
        "plt.imshow(image_tensor[0, 15:20, 15:20], cmap = 'gray')"
      ],
      "metadata": {
        "colab": {
          "base_uri": "https://localhost:8080/",
          "height": 447
        },
        "id": "FbcfhRunXQhJ",
        "outputId": "5e316272-d6a9-4c93-b039-8d384de5a89c"
      },
      "execution_count": 63,
      "outputs": [
        {
          "output_type": "execute_result",
          "data": {
            "text/plain": [
              "<matplotlib.image.AxesImage at 0x7b7df43802b0>"
            ]
          },
          "metadata": {},
          "execution_count": 63
        },
        {
          "output_type": "display_data",
          "data": {
            "text/plain": [
              "<Figure size 640x480 with 1 Axes>"
            ],
            "image/png": "[encoded data removed]"
          },
          "metadata": {}
        }
      ]
    },
    {
      "cell_type": "markdown",
      "source": [
        "# Training and Validation Datasets\n",
        "While building real world machine learning models, it is quite common to split the dataset into 3 parts:\n",
        "1. **Training set** used to train the model l.e. compute the loss and adjust the weights of the model using gradient descent.\n",
        "2. **Validation set** used to evaluate the model while training, adjust hyperparameters (learning rate etc.) and pick the best version of the model.\n",
        "3. **Test set** used to compare different models, or different types of modeling approaches, and report the final accuracy of the model.\n",
        "\n",
        "In the MNIST dataset, there are 60,000 training images, and 10,000 test images. The test set is standardized so that different researchers can report the results of their models against the same set of images.\n",
        "Since there's no predefined validation set, we must manually split the 60,000 Images into training and validation datasets. Let's set aside 10,000 randomly chosen images for validation. We can do this using the random_spilt method from PyTorch."
      ],
      "metadata": {
        "id": "jCoyib30Ys-h"
      }
    },
    {
      "cell_type": "code",
      "source": [
        "from torch.utils.data import random_split, DataLoader\n",
        "\n",
        "train_dataset, val_dataset =  random_split(train_dataset, [50000, 10000])"
      ],
      "metadata": {
        "id": "gZ18_8-oYfxO"
      },
      "execution_count": 64,
      "outputs": []
    },
    {
      "cell_type": "code",
      "source": [
        "print(len(train_dataset))\n",
        "print(len(val_dataset))\n"
      ],
      "metadata": {
        "colab": {
          "base_uri": "https://localhost:8080/"
        },
        "id": "EAwkX5FrZTNz",
        "outputId": "d4c98c65-0f67-498e-dc68-ec035f8b3ce7"
      },
      "execution_count": 65,
      "outputs": [
        {
          "output_type": "stream",
          "name": "stdout",
          "text": [
            "50000\n",
            "10000\n"
          ]
        }
      ]
    },
    {
      "cell_type": "code",
      "source": [
        "batch_size = 128\n",
        "train_Loader = DataLoader(train_dataset, batch_size, shuffle = True)\n",
        "val_loader = DataLoader(val_dataset, batch_size, shuffle =False)"
      ],
      "metadata": {
        "id": "_NejoB49bxQZ"
      },
      "execution_count": 66,
      "outputs": []
    },
    {
      "cell_type": "code",
      "source": [],
      "metadata": {
        "id": "GDn8vcQ7dDYr"
      },
      "execution_count": 66,
      "outputs": []
    }
  ]
}