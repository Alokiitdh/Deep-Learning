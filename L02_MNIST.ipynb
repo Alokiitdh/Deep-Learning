{
  "nbformat": 4,
  "nbformat_minor": 0,
  "metadata": {
    "colab": {
      "provenance": [],
      "authorship_tag": "ABX9TyNH14hp889bbGuEnfPPcqka"
    },
    "kernelspec": {
      "name": "python3",
      "display_name": "Python 3"
    },
    "language_info": {
      "name": "python"
    }
  },
  "cells": [
    {
      "cell_type": "code",
      "execution_count": 1,
      "metadata": {
        "id": "VfDL2gZHHVFE"
      },
      "outputs": [],
      "source": [
        "import torch\n",
        "import torchvision\n",
        "from torchvision.datasets import MNIST"
      ]
    },
    {
      "cell_type": "code",
      "source": [
        "train_dataset = MNIST(root = 'data/', download = True)"
      ],
      "metadata": {
        "id": "ijlKCZGsQZF3",
        "colab": {
          "base_uri": "https://localhost:8080/"
        },
        "outputId": "789f8d3c-32f6-439b-bf45-9c8e7a1a8e8f"
      },
      "execution_count": 2,
      "outputs": [
        {
          "output_type": "stream",
          "name": "stdout",
          "text": [
            "Downloading http://yann.lecun.com/exdb/mnist/train-images-idx3-ubyte.gz\n",
            "Failed to download (trying next):\n",
            "HTTP Error 403: Forbidden\n",
            "\n",
            "Downloading https://ossci-datasets.s3.amazonaws.com/mnist/train-images-idx3-ubyte.gz\n",
            "Downloading https://ossci-datasets.s3.amazonaws.com/mnist/train-images-idx3-ubyte.gz to data/MNIST/raw/train-images-idx3-ubyte.gz\n"
          ]
        },
        {
          "output_type": "stream",
          "name": "stderr",
          "text": [
            "100%|██████████| 9912422/9912422 [00:00<00:00, 16400060.45it/s]\n"
          ]
        },
        {
          "output_type": "stream",
          "name": "stdout",
          "text": [
            "Extracting data/MNIST/raw/train-images-idx3-ubyte.gz to data/MNIST/raw\n",
            "\n",
            "Downloading http://yann.lecun.com/exdb/mnist/train-labels-idx1-ubyte.gz\n",
            "Failed to download (trying next):\n",
            "HTTP Error 403: Forbidden\n",
            "\n",
            "Downloading https://ossci-datasets.s3.amazonaws.com/mnist/train-labels-idx1-ubyte.gz\n",
            "Downloading https://ossci-datasets.s3.amazonaws.com/mnist/train-labels-idx1-ubyte.gz to data/MNIST/raw/train-labels-idx1-ubyte.gz\n"
          ]
        },
        {
          "output_type": "stream",
          "name": "stderr",
          "text": [
            "100%|██████████| 28881/28881 [00:00<00:00, 500660.02it/s]\n"
          ]
        },
        {
          "output_type": "stream",
          "name": "stdout",
          "text": [
            "Extracting data/MNIST/raw/train-labels-idx1-ubyte.gz to data/MNIST/raw\n",
            "\n",
            "Downloading http://yann.lecun.com/exdb/mnist/t10k-images-idx3-ubyte.gz\n",
            "Failed to download (trying next):\n",
            "HTTP Error 403: Forbidden\n",
            "\n",
            "Downloading https://ossci-datasets.s3.amazonaws.com/mnist/t10k-images-idx3-ubyte.gz\n",
            "Downloading https://ossci-datasets.s3.amazonaws.com/mnist/t10k-images-idx3-ubyte.gz to data/MNIST/raw/t10k-images-idx3-ubyte.gz\n"
          ]
        },
        {
          "output_type": "stream",
          "name": "stderr",
          "text": [
            "100%|██████████| 1648877/1648877 [00:00<00:00, 3865838.00it/s]\n"
          ]
        },
        {
          "output_type": "stream",
          "name": "stdout",
          "text": [
            "Extracting data/MNIST/raw/t10k-images-idx3-ubyte.gz to data/MNIST/raw\n",
            "\n",
            "Downloading http://yann.lecun.com/exdb/mnist/t10k-labels-idx1-ubyte.gz\n",
            "Failed to download (trying next):\n",
            "HTTP Error 403: Forbidden\n",
            "\n",
            "Downloading https://ossci-datasets.s3.amazonaws.com/mnist/t10k-labels-idx1-ubyte.gz\n",
            "Downloading https://ossci-datasets.s3.amazonaws.com/mnist/t10k-labels-idx1-ubyte.gz to data/MNIST/raw/t10k-labels-idx1-ubyte.gz\n"
          ]
        },
        {
          "output_type": "stream",
          "name": "stderr",
          "text": [
            "100%|██████████| 4542/4542 [00:00<00:00, 3685534.68it/s]"
          ]
        },
        {
          "output_type": "stream",
          "name": "stdout",
          "text": [
            "Extracting data/MNIST/raw/t10k-labels-idx1-ubyte.gz to data/MNIST/raw\n",
            "\n"
          ]
        },
        {
          "output_type": "stream",
          "name": "stderr",
          "text": [
            "\n"
          ]
        }
      ]
    },
    {
      "cell_type": "code",
      "source": [
        "train_dataset"
      ],
      "metadata": {
        "colab": {
          "base_uri": "https://localhost:8080/"
        },
        "id": "7INS6jfRQvKS",
        "outputId": "9b7388c1-c827-4574-be7c-3ba9f4082fbd"
      },
      "execution_count": 3,
      "outputs": [
        {
          "output_type": "execute_result",
          "data": {
            "text/plain": [
              "Dataset MNIST\n",
              "    Number of datapoints: 60000\n",
              "    Root location: data/\n",
              "    Split: Train"
            ]
          },
          "metadata": {},
          "execution_count": 3
        }
      ]
    },
    {
      "cell_type": "code",
      "source": [
        "len(train_dataset)"
      ],
      "metadata": {
        "colab": {
          "base_uri": "https://localhost:8080/"
        },
        "id": "uxtPRkXlQ-df",
        "outputId": "dc0d3fe8-e212-4a5b-acee-5a2fe8060ee3"
      },
      "execution_count": 4,
      "outputs": [
        {
          "output_type": "execute_result",
          "data": {
            "text/plain": [
              "60000"
            ]
          },
          "metadata": {},
          "execution_count": 4
        }
      ]
    },
    {
      "cell_type": "code",
      "source": [
        "test_dataset = MNIST(root = 'data/', train = False)\n",
        "len(test_dataset)"
      ],
      "metadata": {
        "colab": {
          "base_uri": "https://localhost:8080/"
        },
        "id": "nhbZ_-y1RQ8e",
        "outputId": "24035f31-144d-41b7-cc09-577d6c4c298b"
      },
      "execution_count": 5,
      "outputs": [
        {
          "output_type": "execute_result",
          "data": {
            "text/plain": [
              "10000"
            ]
          },
          "metadata": {},
          "execution_count": 5
        }
      ]
    },
    {
      "cell_type": "code",
      "source": [
        "train_dataset[0]\n",
        "#it is the image 28X28 represent the number 5"
      ],
      "metadata": {
        "colab": {
          "base_uri": "https://localhost:8080/"
        },
        "id": "6XbpXlJWRez1",
        "outputId": "05fc6828-64c1-4182-e26f-1fa8ae5d54d4"
      },
      "execution_count": 6,
      "outputs": [
        {
          "output_type": "execute_result",
          "data": {
            "text/plain": [
              "(<PIL.Image.Image image mode=L size=28x28>, 5)"
            ]
          },
          "metadata": {},
          "execution_count": 6
        }
      ]
    },
    {
      "cell_type": "code",
      "source": [
        "# visualizing the image\n",
        "\n",
        "import matplotlib.pyplot as plt\n",
        "image, label = train_dataset[0]\n",
        "plt.imshow(image, cmap = 'gray')\n",
        "print('label: ', label)"
      ],
      "metadata": {
        "colab": {
          "base_uri": "https://localhost:8080/",
          "height": 447
        },
        "id": "mbvxMLhuTaCX",
        "outputId": "831cef14-95bb-4a2d-8c57-5fb1815b6edb"
      },
      "execution_count": 7,
      "outputs": [
        {
          "output_type": "stream",
          "name": "stdout",
          "text": [
            "label:  5\n"
          ]
        },
        {
          "output_type": "display_data",
          "data": {
            "text/plain": [
              "<Figure size 640x480 with 1 Axes>"
            ],
            "image/png": "[encoded data removed]"
          },
          "metadata": {}
        }
      ]
    },
    {
      "cell_type": "code",
      "source": [
        "image, label = train_dataset[10]\n",
        "plt.imshow(image, cmap = 'gray')\n",
        "print('label: ', label)"
      ],
      "metadata": {
        "colab": {
          "base_uri": "https://localhost:8080/",
          "height": 447
        },
        "id": "SSz-gI7xTtZr",
        "outputId": "80029699-9066-48ea-d2dc-465324d9228f"
      },
      "execution_count": 8,
      "outputs": [
        {
          "output_type": "stream",
          "name": "stdout",
          "text": [
            "label:  3\n"
          ]
        },
        {
          "output_type": "display_data",
          "data": {
            "text/plain": [
              "<Figure size 640x480 with 1 Axes>"
            ],
            "image/png": "[encoded data removed]"
          },
          "metadata": {}
        }
      ]
    },
    {
      "cell_type": "markdown",
      "source": [
        "**NOTE:**\n",
        "\n",
        "Pytorch does not know how to work with thw images, so we will convert the images to tensoers"
      ],
      "metadata": {
        "id": "Vg8FUPK5T8qU"
      }
    },
    {
      "cell_type": "code",
      "source": [
        "import torchvision.transforms as transforms"
      ],
      "metadata": {
        "id": "HBAazjcoT3kq"
      },
      "execution_count": 9,
      "outputs": []
    },
    {
      "cell_type": "code",
      "source": [
        "train_dataset = MNIST(root = 'data/', train = True, transform = transforms.ToTensor() )"
      ],
      "metadata": {
        "id": "TLaqdyD_U59F"
      },
      "execution_count": 10,
      "outputs": []
    },
    {
      "cell_type": "code",
      "source": [
        "image_tensor, label = train_dataset[0]\n",
        "print(image_tensor.shape)"
      ],
      "metadata": {
        "colab": {
          "base_uri": "https://localhost:8080/"
        },
        "id": "uPqV3BVCVhIv",
        "outputId": "0feffbd3-ef2e-4a2c-fcca-9832bdf14472"
      },
      "execution_count": 11,
      "outputs": [
        {
          "output_type": "stream",
          "name": "stdout",
          "text": [
            "torch.Size([1, 28, 28])\n"
          ]
        }
      ]
    },
    {
      "cell_type": "code",
      "source": [
        "print(image_tensor[:, 15:20, 15:20]) # we are seeing particular part of the image"
      ],
      "metadata": {
        "colab": {
          "base_uri": "https://localhost:8080/"
        },
        "id": "oF-WnQXqXDR7",
        "outputId": "2d182c4f-ea57-400f-a628-697e1a14ac39"
      },
      "execution_count": 12,
      "outputs": [
        {
          "output_type": "stream",
          "name": "stdout",
          "text": [
            "tensor([[[0.7294, 0.9922, 0.9922, 0.5882, 0.1059],\n",
            "         [0.0627, 0.3647, 0.9882, 0.9922, 0.7333],\n",
            "         [0.0000, 0.0000, 0.9765, 0.9922, 0.9765],\n",
            "         [0.5098, 0.7176, 0.9922, 0.9922, 0.8118],\n",
            "         [0.9922, 0.9922, 0.9922, 0.9804, 0.7137]]])\n"
          ]
        }
      ]
    },
    {
      "cell_type": "code",
      "source": [
        "plt.imshow(image_tensor[0, 15:20, 15:20], cmap = 'gray')"
      ],
      "metadata": {
        "colab": {
          "base_uri": "https://localhost:8080/",
          "height": 447
        },
        "id": "FbcfhRunXQhJ",
        "outputId": "2290d5f1-c932-405b-d0c0-d93453ed9e41"
      },
      "execution_count": 13,
      "outputs": [
        {
          "output_type": "execute_result",
          "data": {
            "text/plain": [
              "<matplotlib.image.AxesImage at 0x7f036b86db10>"
            ]
          },
          "metadata": {},
          "execution_count": 13
        },
        {
          "output_type": "display_data",
          "data": {
            "text/plain": [
              "<Figure size 640x480 with 1 Axes>"
            ],
            "image/png": "[encoded data removed]"
          },
          "metadata": {}
        }
      ]
    },
    {
      "cell_type": "markdown",
      "source": [
        "# Training and Validation Datasets\n",
        "While building real world machine learning models, it is quite common to split the dataset into 3 parts:\n",
        "1. **Training set** used to train the model l.e. compute the loss and adjust the weights of the model using gradient descent.\n",
        "2. **Validation set** used to evaluate the model while training, adjust hyperparameters (learning rate etc.) and pick the best version of the model.\n",
        "3. **Test set** used to compare different models, or different types of modeling approaches, and report the final accuracy of the model.\n",
        "\n",
        "In the MNIST dataset, there are 60,000 training images, and 10,000 test images. The test set is standardized so that different researchers can report the results of their models against the same set of images.\n",
        "Since there's no predefined validation set, we must manually split the 60,000 Images into training and validation datasets. Let's set aside 10,000 randomly chosen images for validation. We can do this using the random_spilt method from PyTorch."
      ],
      "metadata": {
        "id": "jCoyib30Ys-h"
      }
    },
    {
      "cell_type": "code",
      "source": [
        "from torch.utils.data import random_split, DataLoader\n",
        "\n",
        "train_dataset, val_dataset =  random_split(train_dataset, [50000, 10000])"
      ],
      "metadata": {
        "id": "gZ18_8-oYfxO"
      },
      "execution_count": 14,
      "outputs": []
    },
    {
      "cell_type": "code",
      "source": [
        "print(len(train_dataset))\n",
        "print(len(val_dataset))\n"
      ],
      "metadata": {
        "colab": {
          "base_uri": "https://localhost:8080/"
        },
        "id": "EAwkX5FrZTNz",
        "outputId": "40f8d751-fcfe-4f5b-fe2b-98276c82f72a"
      },
      "execution_count": 15,
      "outputs": [
        {
          "output_type": "stream",
          "name": "stdout",
          "text": [
            "50000\n",
            "10000\n"
          ]
        }
      ]
    },
    {
      "cell_type": "code",
      "source": [
        "batch_size = 128\n",
        "train_Loader = DataLoader(train_dataset, batch_size, shuffle = True)\n",
        "val_loader = DataLoader(val_dataset, batch_size, shuffle =True)"
      ],
      "metadata": {
        "id": "_NejoB49bxQZ"
      },
      "execution_count": 16,
      "outputs": []
    },
    {
      "cell_type": "markdown",
      "source": [
        "# Logestic Regression\n",
        "\n",
        "Now that we have prepared our data loaders, we can define our model.\n",
        "\n",
        "\n",
        "\n",
        "\n",
        "\n",
        "*  A logistic regression model is almost identical to a linear regression model i.e. there are weights and bias matrices, and the output is\n",
        "obtained using simple matrix operations (pred = x @w.t() + b).\n",
        "\n",
        "*  Just as we did with linear regression, we can use in. Linear to create the model instead of defining and initializing the matrices manually.\n",
        "\n",
        "*  Since nn. Linear expects the each training example to be a vector, each 1x28x28 image tensor needs to be flattened out into a vector of size 784 (28*28), before being passed into the model.\n",
        "\n",
        "\n",
        "*  The output for each image is vector of size 10, with each element of the vector signifying the probability a particular target label (i.e. O to 9). The predicted label for an image is simply the one with the highest probability."
      ],
      "metadata": {
        "id": "zdLwVDHyft0M"
      }
    },
    {
      "cell_type": "code",
      "source": [
        "import torch.nn as nn\n",
        "\n",
        "input_size = 28*28 # 784 as input\n",
        "num_classes = 10\n",
        "\n",
        "# Logestic Regression model\n",
        "model = nn.Linear(input_size, num_classes)"
      ],
      "metadata": {
        "id": "GDn8vcQ7dDYr"
      },
      "execution_count": 17,
      "outputs": []
    },
    {
      "cell_type": "code",
      "source": [
        "print(model.weight)\n",
        "print(model.bias)"
      ],
      "metadata": {
        "colab": {
          "base_uri": "https://localhost:8080/"
        },
        "id": "PgGEPIqw-EF-",
        "outputId": "395d8ab8-8ecc-4e95-f66f-a6219147c1bc"
      },
      "execution_count": 18,
      "outputs": [
        {
          "output_type": "stream",
          "name": "stdout",
          "text": [
            "Parameter containing:\n",
            "tensor([[-0.0051,  0.0017,  0.0093,  ..., -0.0226,  0.0326,  0.0253],\n",
            "        [-0.0320, -0.0046, -0.0049,  ...,  0.0157,  0.0311,  0.0254],\n",
            "        [ 0.0246, -0.0156,  0.0160,  ...,  0.0040, -0.0006,  0.0048],\n",
            "        ...,\n",
            "        [-0.0263,  0.0084, -0.0085,  ..., -0.0243, -0.0043,  0.0256],\n",
            "        [-0.0208,  0.0203,  0.0110,  ..., -0.0141,  0.0190, -0.0276],\n",
            "        [ 0.0082,  0.0137, -0.0037,  ...,  0.0026,  0.0147,  0.0149]],\n",
            "       requires_grad=True)\n",
            "Parameter containing:\n",
            "tensor([ 3.2274e-02, -6.2664e-03, -2.5086e-02, -2.0292e-02, -9.4371e-05,\n",
            "        -3.3176e-02,  1.1607e-02,  2.9680e-02, -1.3491e-02, -1.6190e-03],\n",
            "       requires_grad=True)\n"
          ]
        }
      ]
    },
    {
      "cell_type": "markdown",
      "source": [
        "**Model**"
      ],
      "metadata": {
        "id": "Ln7tHN5GfQKk"
      }
    },
    {
      "cell_type": "code",
      "source": [
        "class MNISTModel(nn.Module):\n",
        "  def __init__(self):\n",
        "    super().__init__()\n",
        "    self.linear = nn.Linear(input_size, num_classes) # fully connected layer(784 X 10)\n",
        "\n",
        "  def forward(self, xb):\n",
        "    xb = xb.reshape(-1,input_size) #flatten the input tensor\n",
        "    out = self.linear(xb)  # passing the flatten layer to input layer\n",
        "    return out"
      ],
      "metadata": {
        "id": "KE4saXLBXZA4"
      },
      "execution_count": 19,
      "outputs": []
    },
    {
      "cell_type": "code",
      "source": [
        "model = MNISTModel()\n",
        "for images, labels in train_Loader:\n",
        "  print(labels)\n",
        "  print(images.shape)\n",
        "  output = model(images)\n",
        "  break\n",
        "print(output[:2])\n",
        "print(output.shape)"
      ],
      "metadata": {
        "colab": {
          "base_uri": "https://localhost:8080/"
        },
        "id": "hw2LLj2U-OiW",
        "outputId": "aae8eec6-0dd8-40ed-8d92-49e9440799ea"
      },
      "execution_count": 20,
      "outputs": [
        {
          "output_type": "stream",
          "name": "stdout",
          "text": [
            "tensor([9, 9, 5, 0, 7, 1, 3, 8, 5, 0, 2, 2, 7, 5, 1, 2, 9, 9, 1, 8, 3, 8, 9, 0,\n",
            "        7, 0, 0, 5, 2, 3, 4, 3, 8, 7, 0, 0, 8, 1, 8, 2, 6, 5, 1, 9, 9, 1, 7, 4,\n",
            "        7, 3, 5, 8, 0, 2, 7, 1, 1, 1, 8, 7, 5, 3, 3, 4, 6, 1, 9, 5, 2, 0, 9, 1,\n",
            "        2, 9, 3, 3, 0, 6, 4, 2, 2, 8, 7, 3, 9, 0, 4, 3, 1, 2, 9, 4, 8, 2, 2, 3,\n",
            "        6, 9, 8, 3, 5, 3, 9, 3, 6, 6, 7, 6, 3, 4, 7, 4, 2, 3, 6, 9, 6, 5, 5, 9,\n",
            "        8, 1, 2, 9, 4, 0, 3, 5])\n",
            "torch.Size([128, 1, 28, 28])\n",
            "tensor([[ 0.3590,  0.0373, -0.2007,  0.0057, -0.3071, -0.2547,  0.0594, -0.0899,\n",
            "          0.0522, -0.2933],\n",
            "        [ 0.0926, -0.1287, -0.2552, -0.1655, -0.2128, -0.4453, -0.2260, -0.0633,\n",
            "         -0.0357, -0.3460]], grad_fn=<SliceBackward0>)\n",
            "torch.Size([128, 10])\n"
          ]
        }
      ]
    },
    {
      "cell_type": "markdown",
      "source": [
        "![image.png](data:image/png;base64,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)"
      ],
      "metadata": {
        "id": "ikbUVahPB3b0"
      }
    },
    {
      "cell_type": "code",
      "source": [
        "import torch.nn.functional as F\n",
        "\n",
        "prob = F.softmax(output, dim = 1)\n",
        "summ = torch.sum(prob[0])\n",
        "print(summ)\n",
        "print(prob[0])"
      ],
      "metadata": {
        "id": "piP6ngdMx9BP",
        "colab": {
          "base_uri": "https://localhost:8080/"
        },
        "outputId": "28dbaff9-8390-4f69-9896-8af57711fe58"
      },
      "execution_count": 21,
      "outputs": [
        {
          "output_type": "stream",
          "name": "stdout",
          "text": [
            "tensor(1.0000, grad_fn=<SumBackward0>)\n",
            "tensor([0.1495, 0.1084, 0.0854, 0.1050, 0.0768, 0.0809, 0.1108, 0.0954, 0.1100,\n",
            "        0.0779], grad_fn=<SelectBackward0>)\n"
          ]
        }
      ]
    },
    {
      "cell_type": "code",
      "source": [
        "max_prob, pred = torch.max(prob, dim = 1)\n",
        "print(pred)\n",
        "print(max_prob)"
      ],
      "metadata": {
        "colab": {
          "base_uri": "https://localhost:8080/"
        },
        "id": "I9cQsyHSCZ30",
        "outputId": "28409960-27bf-4546-afaa-21c8e4be8e35"
      },
      "execution_count": 22,
      "outputs": [
        {
          "output_type": "stream",
          "name": "stdout",
          "text": [
            "tensor([0, 0, 8, 7, 7, 0, 1, 0, 1, 7, 0, 3, 7, 1, 4, 0, 0, 0, 7, 1, 2, 2, 7, 0,\n",
            "        0, 0, 0, 7, 0, 6, 7, 1, 1, 1, 0, 0, 6, 0, 0, 0, 0, 7, 8, 1, 7, 0, 8, 0,\n",
            "        7, 2, 7, 7, 7, 0, 0, 0, 1, 7, 6, 0, 0, 7, 0, 7, 0, 3, 8, 7, 1, 7, 0, 0,\n",
            "        7, 0, 7, 6, 0, 7, 7, 0, 8, 7, 0, 7, 7, 0, 7, 7, 5, 0, 0, 6, 0, 0, 0, 1,\n",
            "        0, 7, 1, 1, 7, 7, 1, 0, 0, 7, 1, 8, 7, 1, 0, 1, 0, 7, 1, 7, 3, 2, 0, 0,\n",
            "        0, 5, 8, 7, 7, 0, 7, 0])\n",
            "tensor([0.1495, 0.1297, 0.1211, 0.1373, 0.1270, 0.1284, 0.1353, 0.1344, 0.1284,\n",
            "        0.1532, 0.1309, 0.1251, 0.1328, 0.1411, 0.1241, 0.1333, 0.1233, 0.1634,\n",
            "        0.1167, 0.1305, 0.1250, 0.1150, 0.1286, 0.1852, 0.1284, 0.1976, 0.1835,\n",
            "        0.1381, 0.1303, 0.1368, 0.1264, 0.1561, 0.1213, 0.1163, 0.2116, 0.1743,\n",
            "        0.1223, 0.1256, 0.1530, 0.1403, 0.1451, 0.1569, 0.1106, 0.1197, 0.1178,\n",
            "        0.1198, 0.1373, 0.1160, 0.1351, 0.1284, 0.1663, 0.1707, 0.1427, 0.1417,\n",
            "        0.1521, 0.1174, 0.1165, 0.1323, 0.1209, 0.1206, 0.1315, 0.1325, 0.1242,\n",
            "        0.1195, 0.1498, 0.1082, 0.1238, 0.1340, 0.1187, 0.1666, 0.1218, 0.1216,\n",
            "        0.1512, 0.1518, 0.1586, 0.1169, 0.1982, 0.1448, 0.1291, 0.1437, 0.1293,\n",
            "        0.1485, 0.1314, 0.1342, 0.1366, 0.1243, 0.1321, 0.1465, 0.1127, 0.1353,\n",
            "        0.1234, 0.1150, 0.1474, 0.1455, 0.1419, 0.1276, 0.1438, 0.1456, 0.1369,\n",
            "        0.1434, 0.1254, 0.1198, 0.1233, 0.1288, 0.1348, 0.1342, 0.1522, 0.1250,\n",
            "        0.1154, 0.1310, 0.1411, 0.1147, 0.1342, 0.1243, 0.1302, 0.1457, 0.1274,\n",
            "        0.1283, 0.1280, 0.1385, 0.1339, 0.1100, 0.1256, 0.1360, 0.1444, 0.1661,\n",
            "        0.1288, 0.1337], grad_fn=<MaxBackward0>)\n"
          ]
        }
      ]
    },
    {
      "cell_type": "markdown",
      "source": [
        "**Evaluation Metric and Loss function**"
      ],
      "metadata": {
        "id": "cfgMjgU5DGlU"
      }
    },
    {
      "cell_type": "code",
      "source": [
        "def accuracy(output, target):\n",
        "    _, pred = torch.max(output, dim=1)  # Get the index of the max probability\n",
        "    return torch.tensor(torch.sum(pred == target).item() / len(target))\n"
      ],
      "metadata": {
        "id": "GFrQOYWaDCQp"
      },
      "execution_count": 23,
      "outputs": []
    },
    {
      "cell_type": "markdown",
      "source": [
        "While the accuracy is a great way for us (humans) to evaluate the model, it can't be used as a loss function for optimizing our model using gradient descent, for the following reasons:\n",
        "\n",
        "1. It's not a differentiable function. torch.max and are both non-continuous and non-differentiable operations, so we can't use the accuracy for computing gradients w.r.t the weights and biases.\n",
        "\n",
        "2. It doesn't take into account the actual probabilities predicted by the model, so it can't provide sufficient feedback for incremental improvements.\n",
        "\n",
        "\n",
        "Due to these reasons, accuracy is a great evaluation metric for classification, but not a good loss function. A commonly used loss function for classification problems is the cross entropy, which has the following formula:"
      ],
      "metadata": {
        "id": "mgVKtXNkNAfo"
      }
    },
    {
      "cell_type": "code",
      "source": [
        "loss_fn = F.cross_entropy\n",
        "\n",
        "loss = loss_fn(output, labels)\n",
        "print(loss)"
      ],
      "metadata": {
        "colab": {
          "base_uri": "https://localhost:8080/"
        },
        "id": "uTaovbD4YTAb",
        "outputId": "08561a61-d3e6-4127-9032-a74234a3dd42"
      },
      "execution_count": 24,
      "outputs": [
        {
          "output_type": "stream",
          "name": "stdout",
          "text": [
            "tensor(2.3424, grad_fn=<NllLossBackward0>)\n"
          ]
        }
      ]
    },
    {
      "cell_type": "markdown",
      "source": [
        "# Training"
      ],
      "metadata": {
        "id": "wzoND0VccBQU"
      }
    },
    {
      "cell_type": "markdown",
      "source": [
        "for epoch in range(num_epochs):\n",
        "*  Training phase\n",
        "\n",
        "    for batch in train_loader:\n",
        "    *  Generate predictions\n",
        "    *  Calculate loss\n",
        "    *  Compute gradients\n",
        "    *  Update weights\n",
        "    *  Reset gradients\n",
        "*  Validation phase\n",
        "\n",
        "    for batch in val_loader:\n",
        "    *  Generate predictions\n",
        "    *  Calculate loss\n",
        "    *  alculate metrics (accuracy etc.)\n",
        "\n",
        "*  Calculate average validation loss & metrics\n",
        "\n",
        "*  Log epoch, loss & metrics for inspection"
      ],
      "metadata": {
        "id": "fCrBqm6GcWG7"
      }
    },
    {
      "cell_type": "code",
      "source": [
        "import torch\n",
        "import torch.nn as nn\n",
        "import torch.nn.functional as F\n",
        "\n",
        "# Define the accuracy function\n",
        "def accuracy(output, target):\n",
        "    _, pred = torch.max(output, dim=1)  # Get the index of the max probability\n",
        "    return torch.tensor(torch.sum(pred == target).item() / len(target))\n",
        "\n",
        "# Define the MNIST Model class\n",
        "class MnistModel(nn.Module):\n",
        "    def __init__(self):\n",
        "        super().__init__()\n",
        "        self.linear = nn.Linear(input_size, num_classes)  # Logistic regression model (784 x 10)\n",
        "\n",
        "    def forward(self, xb):  # Define the forward method\n",
        "        xb = xb.reshape(-1, input_size)  # Flatten the input batch\n",
        "        out = self.linear(xb)  # Compute output\n",
        "        return out\n",
        "\n",
        "    def training_step(self, batch):\n",
        "        images, labels = batch\n",
        "        out = self(images)  # Use the forward method\n",
        "        loss = F.cross_entropy(out, labels)\n",
        "        return loss\n",
        "\n",
        "    def validation_step(self, batch):\n",
        "        images, labels = batch\n",
        "        out = self(images)  # Use the forward method\n",
        "        loss = F.cross_entropy(out, labels)\n",
        "        acc = accuracy(out, labels)  # Properly call the accuracy function\n",
        "        return {'Validation Loss': loss, 'Validation Accuracy': acc}\n",
        "\n",
        "    def validation_epoch_end(self, outputs):\n",
        "        batch_losses = [x['Validation Loss'] for x in outputs]\n",
        "        epoch_loss = torch.tensor(batch_losses).mean()  # Average loss across batches\n",
        "        batch_accuracies = [x['Validation Accuracy'] for x in outputs]\n",
        "        epoch_acc = torch.tensor(batch_accuracies).mean()  # Average accuracy across batches\n",
        "        return {'Validation Loss': epoch_loss.item(), 'Validation Accuracy': epoch_acc.item()}\n",
        "\n",
        "    def epoch_end(self, epoch, result):\n",
        "        print(f\"Epoch [{epoch}], Validation Loss: {result['Validation Loss']:.4f}, Validation Accuracy: {result['Validation Accuracy']:.4f}\")\n",
        "\n",
        "# Define the evaluation function\n",
        "def evaluate(model, val_loader):\n",
        "    output = [model.validation_step(batch) for batch in val_loader]\n",
        "    return model.validation_epoch_end(output)\n",
        "\n",
        "# Define the training function\n",
        "def fit(epochs, lr, model, train_loader, val_loader, optimizer=torch.optim.SGD):\n",
        "    history = []\n",
        "    optimizer = optimizer(model.parameters(), lr)\n",
        "    for epoch in range(epochs):\n",
        "        # Training Phase\n",
        "        for batch in train_loader:\n",
        "            loss = model.training_step(batch)\n",
        "            loss.backward()\n",
        "            optimizer.step()\n",
        "            optimizer.zero_grad()\n",
        "        # Validation Phase\n",
        "        result = evaluate(model, val_loader)\n",
        "        model.epoch_end(epoch, result)\n",
        "        history.append(result)\n",
        "    return history\n",
        "\n",
        "# Ensure input size and number of classes are defined correctly\n",
        "input_size = 28 * 28  # MNIST images are 28x28 pixels\n",
        "num_classes = 10  # 10 digits\n",
        "\n",
        "# Instantiate the model\n",
        "model = MnistModel()\n"
      ],
      "metadata": {
        "id": "-rrpW82jb-59",
        "colab": {
          "base_uri": "https://localhost:8080/"
        },
        "outputId": "77d3b965-2cbd-4b69-e61b-91123c776156"
      },
      "execution_count": 35,
      "outputs": [
        {
          "output_type": "stream",
          "name": "stdout",
          "text": [
            "{'Validation Loss': 2.3531899452209473, 'Validation Accuracy': 0.08247626572847366}\n"
          ]
        }
      ]
    },
    {
      "cell_type": "code",
      "source": [
        "history0 = evaluate(model, val_loader)\n",
        "history0"
      ],
      "metadata": {
        "colab": {
          "base_uri": "https://localhost:8080/"
        },
        "id": "JNIQy0V0PYVr",
        "outputId": "eb7cc2e0-590d-423e-85d4-55ec4a277205"
      },
      "execution_count": 36,
      "outputs": [
        {
          "output_type": "execute_result",
          "data": {
            "text/plain": [
              "{'Validation Loss': 2.352757692337036,\n",
              " 'Validation Accuracy': 0.08455300331115723}"
            ]
          },
          "metadata": {},
          "execution_count": 36
        }
      ]
    },
    {
      "cell_type": "code",
      "source": [
        "history1 = fit(10, 0.001, model, train_Loader, val_loader)"
      ],
      "metadata": {
        "colab": {
          "base_uri": "https://localhost:8080/"
        },
        "id": "25Rc6LYzrrj1",
        "outputId": "94003b55-bf76-43ec-deca-745f907d344d"
      },
      "execution_count": 37,
      "outputs": [
        {
          "output_type": "stream",
          "name": "stdout",
          "text": [
            "Epoch [0], Validation Loss: 1.9751, Validation Accuracy: 0.5919\n",
            "Epoch [1], Validation Loss: 1.6998, Validation Accuracy: 0.7126\n",
            "Epoch [2], Validation Loss: 1.4945, Validation Accuracy: 0.7521\n",
            "Epoch [3], Validation Loss: 1.3402, Validation Accuracy: 0.7762\n",
            "Epoch [4], Validation Loss: 1.2180, Validation Accuracy: 0.7915\n",
            "Epoch [5], Validation Loss: 1.1240, Validation Accuracy: 0.8030\n",
            "Epoch [6], Validation Loss: 1.0498, Validation Accuracy: 0.8117\n",
            "Epoch [7], Validation Loss: 0.9896, Validation Accuracy: 0.8164\n",
            "Epoch [8], Validation Loss: 0.9413, Validation Accuracy: 0.8212\n",
            "Epoch [9], Validation Loss: 0.8985, Validation Accuracy: 0.8260\n"
          ]
        }
      ]
    },
    {
      "cell_type": "code",
      "source": [
        "history = [history0] + history1\n",
        "accuracy = [x['Validation Accuracy'] for x in history]\n",
        "plt.plot(accuracy, '-x')\n",
        "plt.xlabel('epoch')\n",
        "plt.ylabel('accuracy')\n",
        "plt.title('Accuracy vs. No. of epochs');"
      ],
      "metadata": {
        "colab": {
          "base_uri": "https://localhost:8080/",
          "height": 472
        },
        "id": "K0tFtmsNmFsY",
        "outputId": "c2b2be5c-059f-483c-8a4f-06473a79840b"
      },
      "execution_count": 38,
      "outputs": [
        {
          "output_type": "display_data",
          "data": {
            "text/plain": [
              "<Figure size 640x480 with 1 Axes>"
            ],
            "image/png": "[encoded data removed]"
          },
          "metadata": {}
        }
      ]
    },
    {
      "cell_type": "markdown",
      "source": [
        "**Testing with the individual images**"
      ],
      "metadata": {
        "id": "zwcQ3o9VnS9T"
      }
    },
    {
      "cell_type": "code",
      "source": [
        "test_dataset = MNIST(root = 'data/', train = False, transform = transforms.ToTensor())\n",
        "\n",
        "len(test_dataset)"
      ],
      "metadata": {
        "colab": {
          "base_uri": "https://localhost:8080/"
        },
        "id": "AmsdaFNinGVn",
        "outputId": "39ad5d6c-0f92-4c78-8566-c9f3110123fd"
      },
      "execution_count": 39,
      "outputs": [
        {
          "output_type": "execute_result",
          "data": {
            "text/plain": [
              "10000"
            ]
          },
          "metadata": {},
          "execution_count": 39
        }
      ]
    },
    {
      "cell_type": "code",
      "source": [
        "img, label = test_dataset[0]\n",
        "plt.imshow(img[0], cmap = 'gray')\n",
        "print('Shape: ', img.shape)\n",
        "print('Label: ', label)"
      ],
      "metadata": {
        "colab": {
          "base_uri": "https://localhost:8080/",
          "height": 465
        },
        "id": "ixxXtkLrnx9z",
        "outputId": "2e9a3ceb-98f4-41e5-a092-2d82514dfa56"
      },
      "execution_count": 40,
      "outputs": [
        {
          "output_type": "stream",
          "name": "stdout",
          "text": [
            "Shape:  torch.Size([1, 28, 28])\n",
            "Label:  7\n"
          ]
        },
        {
          "output_type": "display_data",
          "data": {
            "text/plain": [
              "<Figure size 640x480 with 1 Axes>"
            ],
            "image/png": "[encoded data removed]"
          },
          "metadata": {}
        }
      ]
    },
    {
      "cell_type": "code",
      "source": [
        "img.unsqueeze(0).shape"
      ],
      "metadata": {
        "colab": {
          "base_uri": "https://localhost:8080/"
        },
        "id": "k0MTvtgtpBIM",
        "outputId": "7dbd451b-f354-4d5f-8002-bc2a35b7b11f"
      },
      "execution_count": 41,
      "outputs": [
        {
          "output_type": "execute_result",
          "data": {
            "text/plain": [
              "torch.Size([1, 1, 28, 28])"
            ]
          },
          "metadata": {},
          "execution_count": 41
        }
      ]
    },
    {
      "cell_type": "code",
      "source": [
        "def predict_image(img, model):\n",
        "  xb = img.unsqueeze(0)\n",
        "  yb = model(xb)\n",
        "  _,preds = torch.max(yb, dim =1)\n",
        "  return preds[0].item()"
      ],
      "metadata": {
        "id": "UlK4j5vZpIEs"
      },
      "execution_count": 42,
      "outputs": []
    },
    {
      "cell_type": "code",
      "source": [
        "img, label = test_dataset[0]\n",
        "plt.imshow(img[0], cmap = 'gray')\n",
        "print('Label:', label, ', Predicted:', predict_image(img, model))\n",
        "#"
      ],
      "metadata": {
        "colab": {
          "base_uri": "https://localhost:8080/",
          "height": 447
        },
        "id": "4XPQx1BepbN_",
        "outputId": "e83605fa-074a-415d-d47d-9a84bded2310"
      },
      "execution_count": 43,
      "outputs": [
        {
          "output_type": "stream",
          "name": "stdout",
          "text": [
            "Label: 7 , Predicted: 7\n"
          ]
        },
        {
          "output_type": "display_data",
          "data": {
            "text/plain": [
              "<Figure size 640x480 with 1 Axes>"
            ],
            "image/png": "[encoded data removed]"
          },
          "metadata": {}
        }
      ]
    }
  ]
}